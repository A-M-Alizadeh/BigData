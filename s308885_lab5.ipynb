{
 "cells": [
  {
   "cell_type": "code",
   "execution_count": 6,
   "id": "5a44d620-2138-43a3-b419-dfa3f8122597",
   "metadata": {},
   "outputs": [],
   "source": [
    "airportsPath = \"/data/students/bigdata_internet/lab5/airports.csv\"\n",
    "airlinesPath = \"/data/students/bigdata_internet/lab5/airlines.csv\"\n",
    "routesPath = \"/data/students/bigdata_internet/lab5/routes.csv\""
   ]
  },
  {
   "cell_type": "code",
   "execution_count": 7,
   "id": "ecd12e76-27a5-43df-bc7d-2428dacbb0ad",
   "metadata": {},
   "outputs": [
    {
     "name": "stderr",
     "output_type": "stream",
     "text": [
      "                                                                                \r"
     ]
    }
   ],
   "source": [
    "# defining how to read the date with delimeter\n",
    "airportsDF = spark.read.csv(airportsPath, header=True, inferSchema=True, sep= ',')\n",
    "airlinesDF = spark.read.csv(airlinesPath, header=True, inferSchema=True, sep= ',')\n",
    "routesDF = spark.read.csv(routesPath, header=True, inferSchema=True, sep= ',')"
   ]
  },
  {
   "cell_type": "code",
   "execution_count": 45,
   "id": "c139c1f0-2fde-41a7-a552-f07c4e1fe423",
   "metadata": {},
   "outputs": [],
   "source": [
    "# airportsDF.show(2, truncate=False)\n",
    "# airportsDF.select(\"*\").filter(airportsDF.name.contains(\"Catania\")).show()\n",
    "# Los Angeles International Airport 3484\n",
    "# Catania-Fontanaro... 1509"
   ]
  },
  {
   "cell_type": "markdown",
   "id": "5c52d46c-9c8a-41cb-ad29-15ca95a5a848",
   "metadata": {},
   "source": [
    "## 2.1"
   ]
  },
  {
   "cell_type": "code",
   "execution_count": 8,
   "id": "17424647-d9e7-484b-a4bc-3b34aa7d4ef7",
   "metadata": {},
   "outputs": [],
   "source": [
    "from pyspark.sql.functions import count, asc\n",
    "# Group the data by country and count the number of airports\n",
    "grouped_data = airportsDF.groupBy(\"country\").agg(count(\"*\").alias(\"count\"))\n",
    "# Filter the data to only include countries with more than 200 airports\n",
    "filtered_data = grouped_data.filter(grouped_data[\"count\"] > 200)\n",
    "# Show the filtered data\n",
    "# filtered_data.show()"
   ]
  },
  {
   "cell_type": "code",
   "execution_count": 14,
   "id": "8fa0fa55-3eea-4282-a6c6-0abcb21ff0d7",
   "metadata": {},
   "outputs": [],
   "source": [
    "# countries having more than 200 airports are: \n",
    "# +-------------+-----+\n",
    "# |      country|count|\n",
    "# +-------------+-----+\n",
    "# |       Russia|  264|\n",
    "# |      Germany|  249|\n",
    "# |       France|  217|\n",
    "# |        China|  241|\n",
    "# |United States| 1512|\n",
    "# |       Canada|  430|\n",
    "# |       Brazil|  264|\n",
    "# |    Australia|  334|\n",
    "# +-------------+-----+"
   ]
  },
  {
   "cell_type": "markdown",
   "id": "3da3c1e1-42ad-48e5-9f26-c5cfdfbefb96",
   "metadata": {},
   "source": [
    "## 2.2"
   ]
  },
  {
   "cell_type": "code",
   "execution_count": 261,
   "id": "4ad757c2-7319-4fe4-a37d-96b3700fa71a",
   "metadata": {},
   "outputs": [],
   "source": [
    "# Group the data by country and find the maximum altitude for each country\n",
    "# Rename the resulting column from \"max(altitude)\" to \"maxAltitude\"\n",
    "# Sort the data by the maximum altitude in descending order\n",
    "# Select the top 5 countries with the highest maximum altitude\n",
    "groupedByCountry = airportsDF.groupBy(\"country\").agg({\"altitude\": \"max\"})\\\n",
    "        .withColumnRenamed(\"max(altitude)\", \"maxAltitude\")\\\n",
    "        .sort(\"maxAltitude\", ascending = False)\n",
    "metered_df = groupedByCountry.withColumn(\"altitude\", groupedByCountry[\"maxAltitude\"] * 0.3048)\n",
    "top5 = metered_df.limit(5)\n",
    "\n",
    "# Show the results\n",
    "top5.show(5,truncate=False)"
   ]
  },
  {
   "cell_type": "code",
   "execution_count": 47,
   "id": "57203ed0-ec34-4616-8988-46d3bd8af9a4",
   "metadata": {},
   "outputs": [],
   "source": [
    "# top 5 airports in terms of Altitude :\n",
    "# +---------+-----------+\n",
    "# |country  |maxAltitude|\n",
    "# +---------+-----------+\n",
    "# |China    |14472      |\n",
    "# |Bolivia  |13355      |\n",
    "# |Peru     |12552      |\n",
    "# |Nepal    |12400      |\n",
    "# |Argentina|11414      |\n",
    "# +---------+-----------+\n",
    "\n",
    "# in Meters\n",
    "# +---------+-----------+------------------+\n",
    "# |country  |maxAltitude|altitude          |\n",
    "# +---------+-----------+------------------+\n",
    "# |China    |14472      |4411.0656         |\n",
    "# |Bolivia  |13355      |4070.6040000000003|\n",
    "# |Peru     |12552      |3825.8496         |\n",
    "# |Nepal    |12400      |3779.52           |\n",
    "# |Argentina|11414      |3478.9872         |\n",
    "# +---------+-----------+------------------+"
   ]
  },
  {
   "cell_type": "markdown",
   "id": "8dc07226-77ee-4470-b5bb-29ca93ec0bd0",
   "metadata": {},
   "source": [
    "## 2.3"
   ]
  },
  {
   "cell_type": "code",
   "execution_count": 262,
   "id": "f9474abc-f95e-4c99-b9c7-c597b85e6c16",
   "metadata": {},
   "outputs": [],
   "source": [
    "# first groupby data on \"airport_source_id\", \"airport_destination_id\" to get groups of the same src_dest\n",
    "#order them based on count of routes in descending order\n",
    "# count each group and put it in a column\n",
    "grouped_routes = routesDF.groupBy(\"airport_source_id\", \"airport_destination_id\").agg({\"*\":\"count\"})\\\n",
    "                            .orderBy(\"count(1)\", ascending=False)\n",
    "#join resulted df with airport df to get the source city and airport name\n",
    "#select needed columns\n",
    "source_routes = grouped_routes.join(airportsDF, grouped_routes[\"airport_source_id\"] == airportsDF[\"id\"])\\\n",
    "                    .select(\"airport_source_id\",\"name\",\"city\",\"airport_destination_id\",\"count(1)\")\\\n",
    "                    .withColumnRenamed(\"name\",\"src_name\").withColumnRenamed(\"city\",\"src_city\")\n",
    "#join resulted df with airport df to get the destination city and airport name\n",
    "#select needed columns\n",
    "dest_routes = source_routes.join(airportsDF, source_routes[\"airport_destination_id\"] == airportsDF[\"id\"])\\\n",
    "                    .select(\"airport_source_id\",\"src_city\",\\\n",
    "                    \"src_name\",\"airport_destination_id\",\"city\",\"name\",\"count(1)\")\\\n",
    "                    .withColumnRenamed(\"name\",\"dest_name\").withColumnRenamed(\"city\",\"dest_city\")\\\n",
    "                    .withColumnRenamed(\"count(1)\",\"routes_count\")\n",
    "dest_routes.show(10)"
   ]
  },
  {
   "cell_type": "code",
   "execution_count": null,
   "id": "dccc2aac-a38f-4fe1-bea7-f46d5ee00923",
   "metadata": {},
   "outputs": [],
   "source": [
    "# +-----------------+--------------------+-----------+----------------------+-----------+--------------------+------------+\n",
    "# |airport_source_id|           dest_name|  dest_city|airport_destination_id|  dest_city|           dest_name|routes_count|\n",
    "# +-----------------+--------------------+-----------+----------------------+-----------+--------------------+------------+\n",
    "# |             3830|Hartsfield Jackso...|    Atlanta|                  3682|    Atlanta|Hartsfield Jackso...|          20|\n",
    "# |             3682|Chicago O'Hare In...|    Chicago|                  3830|    Chicago|Chicago O'Hare In...|          19|\n",
    "# |             3830|Louis Armstrong N...|New Orleans|                  3861|New Orleans|Louis Armstrong N...|          13|\n",
    "# |             3179|Suvarnabhumi Airport|    Bangkok|                  3885|    Bangkok|Suvarnabhumi Airport|          13|\n",
    "# |             2179|Muscat Internatio...|     Muscat|                  2194|     Muscat|Muscat Internatio...|          12|\n",
    "# |             3682|Miami Internation...|      Miami|                  3576|      Miami|Miami Internation...|          12|\n",
    "# |             3576|Hartsfield Jackso...|    Atlanta|                  3682|    Atlanta|Hartsfield Jackso...|          12|\n",
    "# |             3885|Hong Kong Interna...|  Hong Kong|                  3077|  Hong Kong|Hong Kong Interna...|          12|\n",
    "# |             3370|Hangzhou Xiaoshan...|   Hangzhou|                  3386|   Hangzhou|Hangzhou Xiaoshan...|          12|\n",
    "# |             3797|London Heathrow A...|     London|                   507|     London|London Heathrow A...|          12|\n",
    "# +-----------------+--------------------+-----------+----------------------+-----------+--------------------+------------+"
   ]
  },
  {
   "cell_type": "markdown",
   "id": "9694844a-070f-4a4d-9dfd-84f949d9b6b0",
   "metadata": {},
   "source": [
    "## 3.1"
   ]
  },
  {
   "cell_type": "code",
   "execution_count": 212,
   "id": "b2fba9fa-98f0-4aad-91bc-259914d61d69",
   "metadata": {},
   "outputs": [
    {
     "data": {
      "text/plain": [
       "67240"
      ]
     },
     "execution_count": 212,
     "metadata": {},
     "output_type": "execute_result"
    }
   ],
   "source": [
    "fltred_routes =routesDF.filter((routesDF[\"airport_source_id\"] != \"\\\\N\") \\\n",
    "                               & (routesDF[\"airport_destination_id\"] != \"\\\\N\"))\n",
    "fltred_routes.count()"
   ]
  },
  {
   "cell_type": "markdown",
   "id": "02745687-47f2-44c9-99ab-8518d3b30958",
   "metadata": {},
   "source": [
    "routesDF count before filtering : 67663\n",
    "\n",
    "routesDF count after filtering : 67240\n",
    "\n",
    "423 rows were filtered out !"
   ]
  },
  {
   "cell_type": "code",
   "execution_count": 134,
   "id": "85af4ec0-3cc6-4368-8b2c-3a7b4e25ad96",
   "metadata": {},
   "outputs": [],
   "source": [
    "#vertices only need id and name\n",
    "#edges need source and destination Ids plus airline Id\n",
    "vertices = airportsDF.select(\"id\", \"name\", \"city\", \"country\", \"icao\")\\\n",
    "                        .withColumnRenamed(\"id\", \"id\")\\\n",
    "                        .withColumnRenamed(\"name\", \"label\")\n",
    "edges = fltred_routes.select(\"airport_source_id\", \"airport_destination_id\", \"airline_id\")\\\n",
    "                .withColumnRenamed(\"airport_source_id\", \"src\")\\\n",
    "                .withColumnRenamed(\"airport_destination_id\", \"dst\")\\\n",
    "                .withColumnRenamed(\"airline_id\", \"label\")"
   ]
  },
  {
   "cell_type": "code",
   "execution_count": 135,
   "id": "29cb51d2-bc5b-42f4-9752-924f408b6c71",
   "metadata": {},
   "outputs": [],
   "source": [
    "#converting columns to string\n",
    "str_vertices = vertices.withColumn(\"id\", vertices.id.cast(\"string\"))\n",
    "str_edges = edges.withColumn(\"src\", edges.src.cast(\"string\"))\\\n",
    "                .withColumn(\"dst\", edges.dst.cast(\"string\"))\\\n",
    "                .withColumn(\"label\", edges.label.cast(\"string\"))         "
   ]
  },
  {
   "cell_type": "code",
   "execution_count": 136,
   "id": "8d0db84f-8006-4644-b719-ffb786151335",
   "metadata": {},
   "outputs": [],
   "source": [
    "from graphframes import GraphFrame\n",
    "g = GraphFrame(str_vertices, str_edges)"
   ]
  },
  {
   "cell_type": "markdown",
   "id": "e41e4a6c-9599-4294-a34f-d7b9d429cba7",
   "metadata": {},
   "source": [
    "## 4.1"
   ]
  },
  {
   "cell_type": "code",
   "execution_count": 139,
   "id": "9a551f87-8af7-48a8-a807-367e57f73fc1",
   "metadata": {},
   "outputs": [],
   "source": [
    "#getting the in_degrees and out_degrees\n",
    "in_degree = g.inDegrees\n",
    "out_degree = g.outDegrees"
   ]
  },
  {
   "cell_type": "code",
   "execution_count": 140,
   "id": "c1ddd6e6-e4cf-4776-91e8-8e9460220220",
   "metadata": {},
   "outputs": [],
   "source": [
    "# joining vertices with in_degree df and ou_degree to get the needed table\n",
    "airports_degree = vertices.join(in_degree, on='id').join(out_degree, on='id')"
   ]
  },
  {
   "cell_type": "code",
   "execution_count": 263,
   "id": "ce6e59bb-e7b9-46c9-ad6a-9447677d4258",
   "metadata": {},
   "outputs": [],
   "source": [
    "#addign a column called ration which is indegree/outdegree\n",
    "#sorting based on ration in descending order then getting only top 5\n",
    "# out_degree.filter(out_degree.id == 1501).count() ===> 50\n",
    "from pyspark.sql.functions import col\n",
    "airports_ratio = airports_degree.withColumn(\"ratio\", col(\"inDegree\") / col(\"outDegree\"))\n",
    "top_5_airports = airports_ratio.sort(col(\"ratio\").desc()).limit(5)\n",
    "top_5_airports.show()"
   ]
  },
  {
   "cell_type": "code",
   "execution_count": null,
   "id": "22273a6b-2181-49d2-a86b-bdab823dd13c",
   "metadata": {},
   "outputs": [],
   "source": [
    "# +----+--------------------+----------+---------------+--------+---------+-----+\n",
    "# |  id|               label|      city|        country|inDegree|outDegree|ratio|\n",
    "# +----+--------------------+----------+---------------+--------+---------+-----+\n",
    "# |3862|Portland Internat...|  Portland|  United States|      18|        2|  9.0|\n",
    "# | 653|       Banak Airport|   Lakselv|         Norway|       3|        1|  3.0|\n",
    "# |5416|    Suavanao Airport|  Suavanao|Solomon Islands|       3|        1|  3.0|\n",
    "# |6289|   Longreach Airport| Longreach|      Australia|       5|        2|  2.5|\n",
    "# |4285|      Yeager Airport|Charleston|  United States|      15|        6|  2.5|\n",
    "# +----+--------------------+----------+---------------+--------+---------+-----+"
   ]
  },
  {
   "cell_type": "markdown",
   "id": "1b1073c1-1b2d-4073-8c6c-735127d5d250",
   "metadata": {},
   "source": [
    "## 4.2.1"
   ]
  },
  {
   "cell_type": "code",
   "execution_count": 142,
   "id": "a4482663-3a73-4958-90fe-5601dad9bb0a",
   "metadata": {},
   "outputs": [
    {
     "data": {
      "text/plain": [
       "50"
      ]
     },
     "execution_count": 142,
     "metadata": {},
     "output_type": "execute_result"
    }
   ],
   "source": [
    "#useing the motif setting the destination id 1501 which is bari\n",
    "bari_dest_motif = g.find(\"(a)-[e]->(b)\").filter(\"b.city = 'Bari'\").filter(\"b.id = 1501\")\n",
    "bari_dest_motif.count()"
   ]
  },
  {
   "cell_type": "code",
   "execution_count": 213,
   "id": "947ed242-8f04-4ee7-b94b-8c2488f33644",
   "metadata": {},
   "outputs": [],
   "source": [
    "# out_degree.filter(out_degree.id == 1501).show()\n",
    "# +----+---------+\n",
    "# |  id|outDegree|\n",
    "# +----+---------+\n",
    "# |1501|       50|\n",
    "# +----+---------+\n",
    "# in_degree.filter(in_degree.id == 1501).show()\n",
    "# +----+--------+\n",
    "# |  id|inDegree|\n",
    "# +----+--------+\n",
    "# |1501|      50|\n",
    "# +----+--------+"
   ]
  },
  {
   "cell_type": "markdown",
   "id": "2688b7e4-8628-41d4-93de-acfc3f87fd5e",
   "metadata": {},
   "source": [
    "##### from 50 airports you can reach Bari in only one flight\n",
    "##### in degree is 50 and it is reachable with 50 straight flights"
   ]
  },
  {
   "cell_type": "markdown",
   "id": "1a792fd8-7665-42df-afdb-4180c8e8d305",
   "metadata": {},
   "source": [
    "### 4.2.2"
   ]
  },
  {
   "cell_type": "code",
   "execution_count": 143,
   "id": "5980fc82-f267-424f-8419-c18ba74d3466",
   "metadata": {},
   "outputs": [
    {
     "data": {
      "text/plain": [
       "50"
      ]
     },
     "execution_count": 143,
     "metadata": {},
     "output_type": "execute_result"
    }
   ],
   "source": [
    "#useing the motif setting the source id 1501 which is bari\n",
    "bari_src_motif = g.find(\"(a)-[e]->(b)\").filter(\"a.city = 'Bari'\").filter(\"a.id = 1501\")\n",
    "bari_src_motif.count()"
   ]
  },
  {
   "cell_type": "markdown",
   "id": "c77c1761-349d-48bc-9acd-e10e52ed0e5d",
   "metadata": {},
   "source": [
    "##### you can reach from Bari to 50 airports in only one flight"
   ]
  },
  {
   "cell_type": "markdown",
   "id": "c0d66399-5619-4140-b07e-bb07ebce01a9",
   "metadata": {},
   "source": [
    "### 4.2.3"
   ]
  },
  {
   "cell_type": "markdown",
   "id": "955f081f-b957-461a-8038-a77341b83dc6",
   "metadata": {},
   "source": [
    "#### inDegrees equals to outDegrees, the same way that there are 50 flights\n",
    "#### from airports to Bari there are flights going back to the the same exact airports"
   ]
  },
  {
   "cell_type": "markdown",
   "id": "6e5a3730-d0b4-46c8-a03e-2be7d4e89ec5",
   "metadata": {},
   "source": [
    "### 4.3"
   ]
  },
  {
   "cell_type": "code",
   "execution_count": 144,
   "id": "47129aa2-4870-44a4-ba51-987fc6d4952b",
   "metadata": {},
   "outputs": [
    {
     "name": "stderr",
     "output_type": "stream",
     "text": [
      "                                                                                \r"
     ]
    },
    {
     "data": {
      "text/plain": [
       "7265"
      ]
     },
     "execution_count": 144,
     "metadata": {},
     "output_type": "execute_result"
    }
   ],
   "source": [
    "#we start from Bari - we reach to an airport - then we move to the next Airport which is our destincation\n",
    "#there might repeatative flights so we get the distinct\n",
    "two_edge_motif = g.find(\"(a)-[e1]->(b); (b)-[e2]->(c)\")\\\n",
    "                        .filter(\"a.city = 'Bari'\").filter(\"a.id = 1501\")\n",
    "two_edge_motif.distinct().count()"
   ]
  },
  {
   "cell_type": "markdown",
   "id": "b95a78f4-4079-416b-9fe8-5bf50aafac21",
   "metadata": {},
   "source": [
    "#### we can reach 7265 airports from Bari with only two flights"
   ]
  },
  {
   "cell_type": "markdown",
   "id": "eb65443e-df83-4f0b-9197-88df14433d05",
   "metadata": {},
   "source": [
    "### 4.4.1"
   ]
  },
  {
   "cell_type": "code",
   "execution_count": 145,
   "id": "bece6376-42c7-4106-a373-32bc78694029",
   "metadata": {},
   "outputs": [],
   "source": [
    "#3484 1509\n",
    "g1 = g.filterVertices(\"id = 3484 or id = 1509\")"
   ]
  },
  {
   "cell_type": "code",
   "execution_count": 146,
   "id": "d5cc3b73-30af-40fc-98c3-a2c98a6bde68",
   "metadata": {},
   "outputs": [
    {
     "data": {
      "text/plain": [
       "DataFrame[id: string, label: string, city: string, country: string, icao: string]"
      ]
     },
     "metadata": {},
     "output_type": "display_data"
    }
   ],
   "source": [
    "display(g1.vertices)"
   ]
  },
  {
   "cell_type": "code",
   "execution_count": 147,
   "id": "ac1c7fb5-4e85-4f95-b827-319f1f06b6d2",
   "metadata": {},
   "outputs": [
    {
     "data": {
      "text/plain": [
       "DataFrame[src: string, dst: string, label: string]"
      ]
     },
     "metadata": {},
     "output_type": "display_data"
    }
   ],
   "source": [
    "display(g1.edges)"
   ]
  },
  {
   "cell_type": "code",
   "execution_count": 264,
   "id": "703d7d7c-8496-401c-8c14-0f39a3ebabb1",
   "metadata": {},
   "outputs": [],
   "source": [
    "# result = g.bfs(fromExpr=\"id!=1509 and id!=3484\",toExpr=\"id=1509 or id=3484\")\n",
    "# result.show()\n",
    "LA_result = g.bfs(fromExpr=\"id != 3484\", toExpr=\"id=3484\")\\\n",
    "                .withColumnRenamed(\"from\",\"la_from\")\\\n",
    "                .withColumnRenamed(\"e0\",\"la_e0\")\\\n",
    "                .withColumnRenamed(\"to\",\"to_la\")\n",
    "# LA_result.count() ===> 497\n",
    "CA_result = g.bfs(fromExpr=\"id != 1509\", toExpr=\"id=1509\")\\\n",
    "                .withColumnRenamed(\"from\",\"ca_from\")\\\n",
    "                .withColumnRenamed(\"e0\",\"ca_e0\")\\\n",
    "                .withColumnRenamed(\"to\",\"to_ca\")\n",
    "# CA_result.count() ======> 118\n",
    "# temppp = LA_result.join(CA_result)\n",
    "LA_result.show()\n",
    "# LA_result.show()\n",
    "# less_hops_LA = CA_hops > LA_hops\n",
    "# num_airports = less_hops_LA.filter(less_hops_LA == True).count()"
   ]
  },
  {
   "cell_type": "markdown",
   "id": "f1f533f3-379c-4752-b48b-993150b27105",
   "metadata": {},
   "source": [
    "### 4.5"
   ]
  },
  {
   "cell_type": "code",
   "execution_count": 266,
   "id": "8e848cff-f9e9-4705-a312-d709222edb12",
   "metadata": {},
   "outputs": [],
   "source": [
    "#grouping by component and counting them based in their unique ids\n",
    "sc.setCheckpointDir(\"temp_ckpts\")\n",
    "cc = g.connectedComponents().groupBy('component').agg(count('*').alias('count'))\n",
    "fltrd_cc = cc.filter(cc[\"count\"] >= 2)\n",
    "# fltrd_cc.show()"
   ]
  },
  {
   "cell_type": "code",
   "execution_count": 129,
   "id": "611d3b7b-2759-46a9-bac7-0e056fd41811",
   "metadata": {},
   "outputs": [
    {
     "name": "stdout",
     "output_type": "stream",
     "text": [
      "Number of Connected Components:  7\n"
     ]
    }
   ],
   "source": [
    "print(\"Number of Connected Components: \",fltrd_cc.distinct().count())"
   ]
  },
  {
   "cell_type": "markdown",
   "id": "d7c3d399-4d3c-4e85-a8fa-63585d3e043d",
   "metadata": {},
   "source": [
    "#### Number of Connected Components:  7"
   ]
  },
  {
   "cell_type": "code",
   "execution_count": null,
   "id": "75adf842-791f-4ed8-99fd-5b04b82cf09d",
   "metadata": {},
   "outputs": [],
   "source": [
    "# +-------------+-----+\n",
    "# |    component|count|\n",
    "# +-------------+-----+\n",
    "# | 266287972371|    4|\n",
    "# | 352187318292|    4|\n",
    "# | 721554505752|    2|\n",
    "# |1460288880657|    2|\n",
    "# | 300647710730|   10|\n",
    "# |           11| 3188|\n",
    "# |           23|    4|\n",
    "# +-------------+-----+"
   ]
  },
  {
   "cell_type": "markdown",
   "id": "6b7e7958-a2c9-46f8-8fcc-9038a19cd0ca",
   "metadata": {},
   "source": [
    "## 4.6"
   ]
  },
  {
   "cell_type": "code",
   "execution_count": 267,
   "id": "da65bb91-e92c-4f09-9544-885989aee1f0",
   "metadata": {},
   "outputs": [],
   "source": [
    "fltrd_arlines= airlinesDF.filter(\"icao != 'N/A'\")\n",
    "resullt = fltred_routes.join(fltrd_arlines, fltrd_arlines[\"airline_id\"] == fltred_routes[\"airline_id\"])\\\n",
    "                        .drop(fltred_routes[\"airline_id\"])\n",
    "routes_city_6 = resullt.groupBy(resullt[\"icao\"], resullt[\"airline_id\"])\\\n",
    "                .agg(count(resullt[\"airport_source_id\"]).alias(\"ID_count\"))\\\n",
    "                        .filter(\"ID_count >= 6\")\\\n",
    "                        .sort(\"ID_count\")\n",
    "oops = routes_city_6.join(fltred_routes, fltred_routes[\"airline_id\"] == routes_city_6[\"airline_id\"])\\\n",
    "                        .drop(fltred_routes[\"airline_id\"])\n",
    "nice = oops.select(oops[\"airline_id\"],oops[\"airport_source_id\"],\\\n",
    "                         oops[\"airport_source\"],oops[\"airport_destination\"],oops[\"airport_destination_id\"],\\\n",
    "                         oops[\"icao\"],oops[\"ID_count\"])\n",
    "# nice.show()"
   ]
  },
  {
   "cell_type": "code",
   "execution_count": null,
   "id": "a0779d04-ded0-44f2-b90e-2cf190e9d4b2",
   "metadata": {},
   "outputs": [],
   "source": [
    "\n",
    "import networkx as nx\n",
    "def xGraph(edge_list,node_list): Gplot=nx.DiGraph() edges=edge_list.collect() nodes=node_list.collect()\n",
    "\n",
    "for row in edges: Gplot.add_edge(row['src'],row['dst'])\n",
    "for row in nodes: Gplot.add_node(row['id'])\n",
    "return Gplot\n",
    "\n",
    "Gplot=xGraph(g.edges,g.vertices)\n",
    "nx.draw(Gplot, with_labels=True, font_weight='bold')"
   ]
  }
 ],
 "metadata": {
  "kernelspec": {
   "display_name": "GraphFrames (Yarn)",
   "language": "python",
   "name": "graphframe_yarn"
  },
  "language_info": {
   "codemirror_mode": {
    "name": "ipython",
    "version": 3
   },
   "file_extension": ".py",
   "mimetype": "text/x-python",
   "name": "python",
   "nbconvert_exporter": "python",
   "pygments_lexer": "ipython3",
   "version": "3.7.12"
  }
 },
 "nbformat": 4,
 "nbformat_minor": 5
}
